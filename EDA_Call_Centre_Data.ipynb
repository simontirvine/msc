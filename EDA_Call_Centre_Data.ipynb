{
  "nbformat": 4,
  "nbformat_minor": 0,
  "metadata": {
    "colab": {
      "provenance": [],
      "authorship_tag": "ABX9TyPvc4W3b65/sdB+w7o6PH9m",
      "include_colab_link": true
    },
    "kernelspec": {
      "name": "python3",
      "display_name": "Python 3"
    },
    "language_info": {
      "name": "python"
    }
  },
  "cells": [
    {
      "cell_type": "markdown",
      "metadata": {
        "id": "view-in-github",
        "colab_type": "text"
      },
      "source": [
        "<a href=\"https://colab.research.google.com/github/simontirvine/msc/blob/main/EDA_Call_Centre_Data.ipynb\" target=\"_parent\"><img src=\"https://colab.research.google.com/assets/colab-badge.svg\" alt=\"Open In Colab\"/></a>"
      ]
    },
    {
      "cell_type": "markdown",
      "source": [
        "# Import and preprocess the data"
      ],
      "metadata": {
        "id": "cIsGsvW2-7Iv"
      }
    },
    {
      "cell_type": "markdown",
      "source": [
        "This script first loads the dataframe using the pd.read_csv() function, then it converts the 'Answer Rate' column from string to float by stripping the % sign and dividing by 100. Then it converts the time columns ('Answer Speed (AVG)', 'Talk Duration (AVG)', 'Waiting Time (AVG)') from string to timedelta using the pd.to_timedelta() function. Finally, it converts the 'Service Level (20 Seconds)' column from string to float by stripping the % sign and dividing by 100. It also checks the data types of each column and for missing values to ensure that the dataframe is clean and preprocessed correctly.\n",
        "\n",
        "You can add more preprocessing steps as per your requirement."
      ],
      "metadata": {
        "id": "PEIz-Tbr_VeY"
      }
    },
    {
      "cell_type": "code",
      "execution_count": null,
      "metadata": {
        "colab": {
          "base_uri": "https://localhost:8080/"
        },
        "id": "LQC26Mqy8cU7",
        "outputId": "611a46c7-728d-4b8e-b21e-0ca84be4989d"
      },
      "outputs": [
        {
          "output_type": "stream",
          "name": "stdout",
          "text": [
            "Index                                   int64\n",
            "Incoming Calls                          int64\n",
            "Answered Calls                          int64\n",
            "Answer Rate                           float64\n",
            "Abandoned Calls                         int64\n",
            "Answer Speed (AVG)            timedelta64[ns]\n",
            "Talk Duration (AVG)           timedelta64[ns]\n",
            "Waiting Time (AVG)            timedelta64[ns]\n",
            "Service Level (20 Seconds)            float64\n",
            "dtype: object\n",
            "Index                         0\n",
            "Incoming Calls                0\n",
            "Answered Calls                0\n",
            "Answer Rate                   0\n",
            "Abandoned Calls               0\n",
            "Answer Speed (AVG)            0\n",
            "Talk Duration (AVG)           0\n",
            "Waiting Time (AVG)            0\n",
            "Service Level (20 Seconds)    0\n",
            "dtype: int64\n"
          ]
        }
      ],
      "source": [
        "import pandas as pd\n",
        "\n",
        "# load the dataframe\n",
        "df = pd.read_csv('call_center_records.csv')\n",
        "\n",
        "# convert the 'Answer Rate' column from string to float\n",
        "df['Answer Rate'] = df['Answer Rate'].str.rstrip('%').astype('float') / 100\n",
        "\n",
        "# convert the 'Answer Speed (AVG)' column from string to timedelta\n",
        "df['Answer Speed (AVG)'] = pd.to_timedelta(df['Answer Speed (AVG)'])\n",
        "\n",
        "# convert the 'Talk Duration (AVG)' column from string to timedelta\n",
        "df['Talk Duration (AVG)'] = pd.to_timedelta(df['Talk Duration (AVG)'])\n",
        "\n",
        "# convert the 'Waiting Time (AVG)' column from string to timedelta\n",
        "df['Waiting Time (AVG)'] = pd.to_timedelta(df['Waiting Time (AVG)'])\n",
        "\n",
        "# convert the 'Service Level (20 Seconds)' column from string to float\n",
        "df['Service Level (20 Seconds)'] = df['Service Level (20 Seconds)'].str.rstrip('%').astype('float') / 100\n",
        "\n",
        "# check the data types of each column to ensure they are correct\n",
        "print(df.dtypes)\n",
        "\n",
        "# check for missing values\n",
        "print(df.isnull().sum())"
      ]
    },
    {
      "cell_type": "markdown",
      "source": [
        "# Perform data quality checks"
      ],
      "metadata": {
        "id": "Oe_4dSV0_Eyl"
      }
    },
    {
      "cell_type": "markdown",
      "source": [
        "This script first checks the shape of the dataframe, column names, data types of each column and any missing values using shape, columns, dtypes and isnull() respectively. It then checks for duplicate rows using the duplicated() function. It also checks the summary statistics of the numerical columns using describe(), the unique values of each column using nunique(), and the distribution of the target variable 'Answer Rate' using value_counts(). These checks will help identify any issues with the data such as missing values, outliers, duplicate rows, etc.\n",
        "\n",
        "You can also use other libraries such as missingno to visualize missing values, scipy.stats for outlier detection and pandas_profiling for a comprehensive report of the dataframe and its variables."
      ],
      "metadata": {
        "id": "zIVjbYwX_0-g"
      }
    },
    {
      "cell_type": "code",
      "source": [
        "# check the shape of the dataframe\n",
        "print(df.shape)\n",
        "\n",
        "# check the column names\n",
        "print(df.columns)\n",
        "\n",
        "# check the data types of each column\n",
        "print(df.dtypes)\n",
        "\n",
        "# check for missing values\n",
        "print(df.isnull().sum())\n",
        "\n",
        "# check for duplicate rows\n",
        "print(df.duplicated().sum())\n",
        "\n",
        "# check the summary statistics of the numerical columns\n",
        "print(df.describe())\n",
        "\n",
        "# check the unique values of each column\n",
        "for col in df.columns:\n",
        "    print(col + \": \" + str(df[col].nunique()))\n",
        "\n",
        "# check the distribution of the target variable\n",
        "print(df['Answer Rate'].value_counts(normalize=True))\n"
      ],
      "metadata": {
        "colab": {
          "base_uri": "https://localhost:8080/"
        },
        "id": "aKF6WJwg_M8z",
        "outputId": "46ae788f-85eb-402a-c6d9-d6313c295ab4"
      },
      "execution_count": null,
      "outputs": [
        {
          "output_type": "stream",
          "name": "stdout",
          "text": [
            "(1251, 9)\n",
            "Index(['Index', 'Incoming Calls', 'Answered Calls', 'Answer Rate',\n",
            "       'Abandoned Calls', 'Answer Speed (AVG)', 'Talk Duration (AVG)',\n",
            "       'Waiting Time (AVG)', 'Service Level (20 Seconds)'],\n",
            "      dtype='object')\n",
            "Index                                   int64\n",
            "Incoming Calls                          int64\n",
            "Answered Calls                          int64\n",
            "Answer Rate                           float64\n",
            "Abandoned Calls                         int64\n",
            "Answer Speed (AVG)            timedelta64[ns]\n",
            "Talk Duration (AVG)           timedelta64[ns]\n",
            "Waiting Time (AVG)            timedelta64[ns]\n",
            "Service Level (20 Seconds)            float64\n",
            "dtype: object\n",
            "Index                         0\n",
            "Incoming Calls                0\n",
            "Answered Calls                0\n",
            "Answer Rate                   0\n",
            "Abandoned Calls               0\n",
            "Answer Speed (AVG)            0\n",
            "Talk Duration (AVG)           0\n",
            "Waiting Time (AVG)            0\n",
            "Service Level (20 Seconds)    0\n",
            "dtype: int64\n",
            "0\n",
            "             Index  Incoming Calls  Answered Calls  Answer Rate  \\\n",
            "count  1251.000000     1251.000000     1251.000000  1251.000000   \n",
            "mean    626.000000      198.539568      176.845723     0.926925   \n",
            "std     361.276902      156.534195      115.612080     0.084609   \n",
            "min       1.000000        5.000000        5.000000     0.221000   \n",
            "25%     313.500000      123.000000      114.000000     0.913500   \n",
            "50%     626.000000      177.000000      166.000000     0.949300   \n",
            "75%     938.500000      233.000000      214.500000     0.972400   \n",
            "max    1251.000000     1575.000000      909.000000     1.000000   \n",
            "\n",
            "       Abandoned Calls         Answer Speed (AVG)        Talk Duration (AVG)  \\\n",
            "count      1251.000000                       1251                       1251   \n",
            "mean         21.693845  0 days 00:00:24.897681854  0 days 00:02:37.551558752   \n",
            "std          59.671955  0 days 00:00:23.717047089  0 days 00:00:23.703087131   \n",
            "min           0.000000            0 days 00:00:02            0 days 00:00:57   \n",
            "25%           3.000000            0 days 00:00:13            0 days 00:02:22   \n",
            "50%           8.000000            0 days 00:00:21            0 days 00:02:37   \n",
            "75%          16.000000            0 days 00:00:30            0 days 00:02:51   \n",
            "max         704.000000            0 days 00:05:08            0 days 00:04:48   \n",
            "\n",
            "              Waiting Time (AVG)  Service Level (20 Seconds)  \n",
            "count                       1251                 1251.000000  \n",
            "mean   0 days 00:03:52.314948041                    0.708729  \n",
            "std    0 days 00:03:10.647960199                    0.184528  \n",
            "min              0 days 00:00:03                    0.000000  \n",
            "25%              0 days 00:01:58                    0.602100  \n",
            "50%              0 days 00:03:02                    0.741400  \n",
            "75%              0 days 00:04:36                    0.841400  \n",
            "max              0 days 00:25:51                    1.000000  \n",
            "Index: 1251\n",
            "Incoming Calls: 403\n",
            "Answered Calls: 363\n",
            "Answer Rate: 730\n",
            "Abandoned Calls: 115\n",
            "Answer Speed (AVG): 93\n",
            "Talk Duration (AVG): 131\n",
            "Waiting Time (AVG): 424\n",
            "Service Level (20 Seconds): 1027\n",
            "1.0000    0.064748\n",
            "0.9667    0.009592\n",
            "0.9167    0.007194\n",
            "0.9524    0.006395\n",
            "0.8889    0.005596\n",
            "            ...   \n",
            "0.8901    0.000799\n",
            "0.7597    0.000799\n",
            "0.8133    0.000799\n",
            "0.8421    0.000799\n",
            "0.9858    0.000799\n",
            "Name: Answer Rate, Length: 730, dtype: float64\n"
          ]
        }
      ]
    },
    {
      "cell_type": "markdown",
      "source": [
        "# Perform some simple statistical analysis"
      ],
      "metadata": {
        "id": "GTGI4kJ0_N5t"
      }
    },
    {
      "cell_type": "markdown",
      "source": [],
      "metadata": {
        "id": "ga8As02xLd_4"
      }
    },
    {
      "cell_type": "code",
      "source": [],
      "metadata": {
        "id": "afNCnLNJLe1K"
      },
      "execution_count": null,
      "outputs": []
    }
  ]
}